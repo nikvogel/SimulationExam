{
 "cells": [
  {
   "cell_type": "code",
   "execution_count": 1,
   "id": "215b6e84",
   "metadata": {},
   "outputs": [],
   "source": [
    "import pandas as pd\n",
    "import numpy as np\n",
    "import matplotlib.pyplot as plt\n",
    "import math\n",
    "import statistics\n",
    "import scipy.stats"
   ]
  },
  {
   "cell_type": "markdown",
   "id": "6999967e",
   "metadata": {},
   "source": [
    "# Analysis of Queueing System"
   ]
  },
  {
   "cell_type": "code",
   "execution_count": 2,
   "id": "59bec638",
   "metadata": {},
   "outputs": [],
   "source": [
    "df0 = pd.read_csv('MeanCustomersInQueue0.csv', header= None, names = ['Customers 0'])"
   ]
  },
  {
   "cell_type": "code",
   "execution_count": 3,
   "id": "7912f106",
   "metadata": {},
   "outputs": [
    {
     "data": {
      "text/html": [
       "<div>\n",
       "<style scoped>\n",
       "    .dataframe tbody tr th:only-of-type {\n",
       "        vertical-align: middle;\n",
       "    }\n",
       "\n",
       "    .dataframe tbody tr th {\n",
       "        vertical-align: top;\n",
       "    }\n",
       "\n",
       "    .dataframe thead th {\n",
       "        text-align: right;\n",
       "    }\n",
       "</style>\n",
       "<table border=\"1\" class=\"dataframe\">\n",
       "  <thead>\n",
       "    <tr style=\"text-align: right;\">\n",
       "      <th></th>\n",
       "      <th>Customers 0</th>\n",
       "    </tr>\n",
       "  </thead>\n",
       "  <tbody>\n",
       "    <tr>\n",
       "      <th>0</th>\n",
       "      <td>1.003915</td>\n",
       "    </tr>\n",
       "    <tr>\n",
       "      <th>1</th>\n",
       "      <td>1.026882</td>\n",
       "    </tr>\n",
       "    <tr>\n",
       "      <th>2</th>\n",
       "      <td>0.985912</td>\n",
       "    </tr>\n",
       "    <tr>\n",
       "      <th>3</th>\n",
       "      <td>1.018647</td>\n",
       "    </tr>\n",
       "    <tr>\n",
       "      <th>4</th>\n",
       "      <td>1.003059</td>\n",
       "    </tr>\n",
       "  </tbody>\n",
       "</table>\n",
       "</div>"
      ],
      "text/plain": [
       "   Customers 0\n",
       "0     1.003915\n",
       "1     1.026882\n",
       "2     0.985912\n",
       "3     1.018647\n",
       "4     1.003059"
      ]
     },
     "execution_count": 3,
     "metadata": {},
     "output_type": "execute_result"
    }
   ],
   "source": [
    "df0.head()"
   ]
  },
  {
   "cell_type": "code",
   "execution_count": 4,
   "id": "f91a4fae",
   "metadata": {},
   "outputs": [],
   "source": [
    "df1 = pd.read_csv('MeanCustomersInQueue1.csv', header= None, names = ['Customers 1'])"
   ]
  },
  {
   "cell_type": "code",
   "execution_count": 5,
   "id": "688b0555",
   "metadata": {},
   "outputs": [],
   "source": [
    "df = df0.join(df1)"
   ]
  },
  {
   "cell_type": "code",
   "execution_count": 6,
   "id": "e6a5cba0",
   "metadata": {},
   "outputs": [
    {
     "data": {
      "text/html": [
       "<div>\n",
       "<style scoped>\n",
       "    .dataframe tbody tr th:only-of-type {\n",
       "        vertical-align: middle;\n",
       "    }\n",
       "\n",
       "    .dataframe tbody tr th {\n",
       "        vertical-align: top;\n",
       "    }\n",
       "\n",
       "    .dataframe thead th {\n",
       "        text-align: right;\n",
       "    }\n",
       "</style>\n",
       "<table border=\"1\" class=\"dataframe\">\n",
       "  <thead>\n",
       "    <tr style=\"text-align: right;\">\n",
       "      <th></th>\n",
       "      <th>Customers 0</th>\n",
       "      <th>Customers 1</th>\n",
       "    </tr>\n",
       "  </thead>\n",
       "  <tbody>\n",
       "    <tr>\n",
       "      <th>0</th>\n",
       "      <td>1.003915</td>\n",
       "      <td>1.004867</td>\n",
       "    </tr>\n",
       "    <tr>\n",
       "      <th>1</th>\n",
       "      <td>1.026882</td>\n",
       "      <td>1.008044</td>\n",
       "    </tr>\n",
       "    <tr>\n",
       "      <th>2</th>\n",
       "      <td>0.985912</td>\n",
       "      <td>1.005764</td>\n",
       "    </tr>\n",
       "    <tr>\n",
       "      <th>3</th>\n",
       "      <td>1.018647</td>\n",
       "      <td>1.001384</td>\n",
       "    </tr>\n",
       "    <tr>\n",
       "      <th>4</th>\n",
       "      <td>1.003059</td>\n",
       "      <td>1.004197</td>\n",
       "    </tr>\n",
       "    <tr>\n",
       "      <th>...</th>\n",
       "      <td>...</td>\n",
       "      <td>...</td>\n",
       "    </tr>\n",
       "    <tr>\n",
       "      <th>95</th>\n",
       "      <td>1.031028</td>\n",
       "      <td>1.011365</td>\n",
       "    </tr>\n",
       "    <tr>\n",
       "      <th>96</th>\n",
       "      <td>0.973511</td>\n",
       "      <td>1.040156</td>\n",
       "    </tr>\n",
       "    <tr>\n",
       "      <th>97</th>\n",
       "      <td>1.029933</td>\n",
       "      <td>1.006520</td>\n",
       "    </tr>\n",
       "    <tr>\n",
       "      <th>98</th>\n",
       "      <td>1.018353</td>\n",
       "      <td>0.998737</td>\n",
       "    </tr>\n",
       "    <tr>\n",
       "      <th>99</th>\n",
       "      <td>1.009772</td>\n",
       "      <td>1.014022</td>\n",
       "    </tr>\n",
       "  </tbody>\n",
       "</table>\n",
       "<p>100 rows × 2 columns</p>\n",
       "</div>"
      ],
      "text/plain": [
       "    Customers 0  Customers 1\n",
       "0      1.003915     1.004867\n",
       "1      1.026882     1.008044\n",
       "2      0.985912     1.005764\n",
       "3      1.018647     1.001384\n",
       "4      1.003059     1.004197\n",
       "..          ...          ...\n",
       "95     1.031028     1.011365\n",
       "96     0.973511     1.040156\n",
       "97     1.029933     1.006520\n",
       "98     1.018353     0.998737\n",
       "99     1.009772     1.014022\n",
       "\n",
       "[100 rows x 2 columns]"
      ]
     },
     "execution_count": 6,
     "metadata": {},
     "output_type": "execute_result"
    }
   ],
   "source": [
    "df"
   ]
  },
  {
   "cell_type": "code",
   "execution_count": 7,
   "id": "b0b4caf7",
   "metadata": {},
   "outputs": [
    {
     "data": {
      "text/html": [
       "<div>\n",
       "<style scoped>\n",
       "    .dataframe tbody tr th:only-of-type {\n",
       "        vertical-align: middle;\n",
       "    }\n",
       "\n",
       "    .dataframe tbody tr th {\n",
       "        vertical-align: top;\n",
       "    }\n",
       "\n",
       "    .dataframe thead th {\n",
       "        text-align: right;\n",
       "    }\n",
       "</style>\n",
       "<table border=\"1\" class=\"dataframe\">\n",
       "  <thead>\n",
       "    <tr style=\"text-align: right;\">\n",
       "      <th></th>\n",
       "      <th>Customers 0</th>\n",
       "      <th>Customers 1</th>\n",
       "    </tr>\n",
       "  </thead>\n",
       "  <tbody>\n",
       "    <tr>\n",
       "      <th>Customers 0</th>\n",
       "      <td>1.000000</td>\n",
       "      <td>-0.134646</td>\n",
       "    </tr>\n",
       "    <tr>\n",
       "      <th>Customers 1</th>\n",
       "      <td>-0.134646</td>\n",
       "      <td>1.000000</td>\n",
       "    </tr>\n",
       "  </tbody>\n",
       "</table>\n",
       "</div>"
      ],
      "text/plain": [
       "             Customers 0  Customers 1\n",
       "Customers 0     1.000000    -0.134646\n",
       "Customers 1    -0.134646     1.000000"
      ]
     },
     "execution_count": 7,
     "metadata": {},
     "output_type": "execute_result"
    }
   ],
   "source": [
    "df.corr()"
   ]
  },
  {
   "cell_type": "code",
   "execution_count": 8,
   "id": "a6cc0a02",
   "metadata": {},
   "outputs": [
    {
     "data": {
      "text/plain": [
       "-0.13464629188159039"
      ]
     },
     "execution_count": 8,
     "metadata": {},
     "output_type": "execute_result"
    }
   ],
   "source": [
    "corr01 = df['Customers 0'].corr(df['Customers 1'])\n",
    "corr01"
   ]
  },
  {
   "cell_type": "code",
   "execution_count": 9,
   "id": "b9550b2c",
   "metadata": {},
   "outputs": [
    {
     "data": {
      "image/png": "[encoded data removed]",
      "text/plain": [
       "<Figure size 432x288 with 1 Axes>"
      ]
     },
     "metadata": {
      "needs_background": "light"
     },
     "output_type": "display_data"
    }
   ],
   "source": [
    "plt.plot(df.index, df['Customers 0'])\n",
    "plt.plot(df.index, df['Customers 1'])\n",
    "plt.tight_layout\n",
    "plt.ylabel('Mean number of customers')\n",
    "plt.xlabel('Simulation run')\n",
    "plt.savefig('AntitheticResults.png')"
   ]
  },
  {
   "cell_type": "code",
   "execution_count": 10,
   "id": "5fdf55c3",
   "metadata": {},
   "outputs": [],
   "source": [
    "mean0 = df['Customers 0'].mean()\n",
    "mean1 = df['Customers 1'].mean()"
   ]
  },
  {
   "cell_type": "code",
   "execution_count": 11,
   "id": "20016c99",
   "metadata": {},
   "outputs": [
    {
     "data": {
      "text/plain": [
       "1.0080436176961853"
      ]
     },
     "execution_count": 11,
     "metadata": {},
     "output_type": "execute_result"
    }
   ],
   "source": [
    "mean0"
   ]
  },
  {
   "cell_type": "code",
   "execution_count": 12,
   "id": "94f46d24",
   "metadata": {},
   "outputs": [
    {
     "data": {
      "text/plain": [
       "1.008705047789194"
      ]
     },
     "execution_count": 12,
     "metadata": {},
     "output_type": "execute_result"
    }
   ],
   "source": [
    "mean1"
   ]
  },
  {
   "cell_type": "code",
   "execution_count": 13,
   "id": "010067ba",
   "metadata": {},
   "outputs": [],
   "source": [
    "total = np.append(df['Customers 0'].to_numpy(), df['Customers 1'].to_numpy())"
   ]
  },
  {
   "cell_type": "code",
   "execution_count": 14,
   "id": "a52ec75f",
   "metadata": {},
   "outputs": [
    {
     "data": {
      "text/plain": [
       "0.0009733434947762132"
      ]
     },
     "execution_count": 14,
     "metadata": {},
     "output_type": "execute_result"
    }
   ],
   "source": [
    "total.std()/math.sqrt(200)"
   ]
  },
  {
   "cell_type": "code",
   "execution_count": 15,
   "id": "c983912d",
   "metadata": {},
   "outputs": [
    {
     "data": {
      "text/plain": [
       "0.012336435759775383"
      ]
     },
     "execution_count": 15,
     "metadata": {},
     "output_type": "execute_result"
    }
   ],
   "source": [
    "df['Customers 1'].std()"
   ]
  },
  {
   "cell_type": "code",
   "execution_count": 16,
   "id": "f94145be",
   "metadata": {},
   "outputs": [],
   "source": [
    "sd0 = df['Customers 0'].std()/math.sqrt(len(df['Customers 0']))\n",
    "sd1 = df['Customers 1'].std()/math.sqrt(len(df['Customers 1']))"
   ]
  },
  {
   "cell_type": "code",
   "execution_count": 17,
   "id": "582c14bc",
   "metadata": {},
   "outputs": [
    {
     "data": {
      "text/plain": [
       "0.0015178217641425836"
      ]
     },
     "execution_count": 17,
     "metadata": {},
     "output_type": "execute_result"
    }
   ],
   "source": [
    "sd0"
   ]
  },
  {
   "cell_type": "code",
   "execution_count": 18,
   "id": "6f410b7f",
   "metadata": {},
   "outputs": [
    {
     "data": {
      "text/plain": [
       "0.0012336435759775382"
      ]
     },
     "execution_count": 18,
     "metadata": {},
     "output_type": "execute_result"
    }
   ],
   "source": [
    "sd1"
   ]
  },
  {
   "cell_type": "code",
   "execution_count": 19,
   "id": "9bc5badc",
   "metadata": {},
   "outputs": [
    {
     "data": {
      "text/plain": [
       "1.9842169515086827"
      ]
     },
     "execution_count": 19,
     "metadata": {},
     "output_type": "execute_result"
    }
   ],
   "source": [
    "crit_t01 = scipy.stats.t.ppf(0.975, 99)\n",
    "crit_t01"
   ]
  },
  {
   "cell_type": "code",
   "execution_count": 20,
   "id": "e25f42e0",
   "metadata": {},
   "outputs": [
    {
     "name": "stdout",
     "output_type": "stream",
     "text": [
      "[1.0050319300224049, 1.0110553053699658]\n"
     ]
    }
   ],
   "source": [
    "print(f'[{mean0-crit_t01*sd0}, {mean0+crit_t01*sd0}]')"
   ]
  },
  {
   "cell_type": "code",
   "execution_count": 21,
   "id": "ad89be87",
   "metadata": {},
   "outputs": [
    {
     "name": "stdout",
     "output_type": "stream",
     "text": [
      "[1.0062572312936195, 1.0111528642847682]\n"
     ]
    }
   ],
   "source": [
    "print(f'[{mean1-crit_t01*sd1}, {mean1+crit_t01*sd1}]')"
   ]
  },
  {
   "cell_type": "code",
   "execution_count": 22,
   "id": "0f8492bc",
   "metadata": {},
   "outputs": [
    {
     "data": {
      "text/plain": [
       "1.0083743327426897"
      ]
     },
     "execution_count": 22,
     "metadata": {},
     "output_type": "execute_result"
    }
   ],
   "source": [
    "mean = (mean0 + mean1)/2\n",
    "mean"
   ]
  },
  {
   "cell_type": "code",
   "execution_count": 23,
   "id": "e3b570eb",
   "metadata": {},
   "outputs": [
    {
     "data": {
      "text/plain": [
       "0.0009779646440766089"
      ]
     },
     "execution_count": 23,
     "metadata": {},
     "output_type": "execute_result"
    }
   ],
   "source": [
    "sd = math.sqrt(1/4 *(sd0**2+sd1**2))\n",
    "sd"
   ]
  },
  {
   "cell_type": "code",
   "execution_count": 24,
   "id": "a211dddb",
   "metadata": {},
   "outputs": [
    {
     "data": {
      "text/plain": [
       "2.3037829077049044e-06"
      ]
     },
     "execution_count": 24,
     "metadata": {},
     "output_type": "execute_result"
    }
   ],
   "source": [
    "sd0**2"
   ]
  },
  {
   "cell_type": "code",
   "execution_count": 25,
   "id": "42fe2031",
   "metadata": {},
   "outputs": [
    {
     "data": {
      "text/plain": [
       "1.521876472550648e-06"
      ]
     },
     "execution_count": 25,
     "metadata": {},
     "output_type": "execute_result"
    }
   ],
   "source": [
    "sd1**2"
   ]
  },
  {
   "cell_type": "code",
   "execution_count": 26,
   "id": "b8f2d9e9",
   "metadata": {},
   "outputs": [
    {
     "data": {
      "text/plain": [
       "-2.5211859314544394e-05"
      ]
     },
     "execution_count": 26,
     "metadata": {},
     "output_type": "execute_result"
    }
   ],
   "source": [
    "df['Customers 0'].std()*df['Customers 1'].std()*corr01"
   ]
  },
  {
   "cell_type": "code",
   "execution_count": 27,
   "id": "77dcc70e",
   "metadata": {},
   "outputs": [],
   "source": [
    "cov = df.cov()"
   ]
  },
  {
   "cell_type": "code",
   "execution_count": 28,
   "id": "c90d5b66",
   "metadata": {},
   "outputs": [
    {
     "data": {
      "text/plain": [
       "-2.52118593145444e-05"
      ]
     },
     "execution_count": 28,
     "metadata": {},
     "output_type": "execute_result"
    }
   ],
   "source": [
    "cov01 = cov.iloc[1,0]\n",
    "cov01"
   ]
  },
  {
   "cell_type": "code",
   "execution_count": 29,
   "id": "59c06aa8",
   "metadata": {},
   "outputs": [
    {
     "data": {
      "text/plain": [
       "0.015178217641425835"
      ]
     },
     "execution_count": 29,
     "metadata": {},
     "output_type": "execute_result"
    }
   ],
   "source": [
    "df['Customers 0'].std()"
   ]
  },
  {
   "cell_type": "code",
   "execution_count": 30,
   "id": "9a7f5d35",
   "metadata": {},
   "outputs": [
    {
     "data": {
      "text/plain": [
       "8.303555484911661e-05"
      ]
     },
     "execution_count": 30,
     "metadata": {},
     "output_type": "execute_result"
    }
   ],
   "source": [
    "1/4*(df['Customers 0'].var()+df['Customers 1'].var()+2*cov01)"
   ]
  },
  {
   "cell_type": "code",
   "execution_count": 31,
   "id": "bb03bb5c",
   "metadata": {},
   "outputs": [
    {
     "data": {
      "text/plain": [
       "0.00911238469606703"
      ]
     },
     "execution_count": 31,
     "metadata": {},
     "output_type": "execute_result"
    }
   ],
   "source": [
    "sd = math.sqrt(1/4*(df['Customers 0'].var()+df['Customers 1'].var()+2*cov01))\n",
    "sd"
   ]
  },
  {
   "cell_type": "code",
   "execution_count": 32,
   "id": "6fb1b597",
   "metadata": {},
   "outputs": [
    {
     "data": {
      "text/plain": [
       "0.0006443429011369513"
      ]
     },
     "execution_count": 32,
     "metadata": {},
     "output_type": "execute_result"
    }
   ],
   "source": [
    "sd_mean = sd/math.sqrt(200)\n",
    "sd_mean"
   ]
  },
  {
   "cell_type": "code",
   "execution_count": 33,
   "id": "30f2a953",
   "metadata": {},
   "outputs": [
    {
     "data": {
      "text/plain": [
       "1.971956544249395"
      ]
     },
     "execution_count": 33,
     "metadata": {},
     "output_type": "execute_result"
    }
   ],
   "source": [
    "crit_t = scipy.stats.t.ppf(0.975, 199)\n",
    "crit_t"
   ]
  },
  {
   "cell_type": "code",
   "execution_count": 34,
   "id": "808d8955",
   "metadata": {},
   "outputs": [],
   "source": [
    "lb = mean - crit_t*sd_mean"
   ]
  },
  {
   "cell_type": "code",
   "execution_count": 35,
   "id": "19bdd067",
   "metadata": {},
   "outputs": [],
   "source": [
    "ub = mean + crit_t*sd_mean"
   ]
  },
  {
   "cell_type": "code",
   "execution_count": 36,
   "id": "673c8938",
   "metadata": {},
   "outputs": [
    {
     "name": "stdout",
     "output_type": "stream",
     "text": [
      "[1.007103716542052, 1.0096449489433275]\n"
     ]
    }
   ],
   "source": [
    "print(f'[{lb}, {ub}]')"
   ]
  },
  {
   "cell_type": "code",
   "execution_count": 37,
   "id": "a4524679",
   "metadata": {},
   "outputs": [],
   "source": [
    "measurements = pd.read_csv('Measurements.csv', header= None, names = ['Customers'])"
   ]
  },
  {
   "cell_type": "code",
   "execution_count": 38,
   "id": "0adf6081",
   "metadata": {},
   "outputs": [],
   "source": [
    "frequency = np.unique(measurements['Customers'], return_counts= True)"
   ]
  },
  {
   "cell_type": "code",
   "execution_count": 39,
   "id": "7ec42ae1",
   "metadata": {},
   "outputs": [],
   "source": [
    "rel_freq = frequency[1]/sum(frequency[1])"
   ]
  },
  {
   "cell_type": "code",
   "execution_count": 40,
   "id": "9614f558",
   "metadata": {},
   "outputs": [
    {
     "data": {
      "text/plain": [
       "array([4.11624072e-01, 3.43084196e-01, 1.43224970e-01, 5.96470434e-02,\n",
       "       2.47697904e-02, 1.02921761e-02, 4.28479172e-03, 1.76177426e-03,\n",
       "       7.43051732e-04, 3.30245214e-04, 1.45531789e-04, 5.59737651e-05,\n",
       "       2.37888502e-05, 6.99672064e-06, 2.79868825e-06, 6.99672064e-07,\n",
       "       6.99672064e-07, 1.39934413e-06])"
      ]
     },
     "execution_count": 40,
     "metadata": {},
     "output_type": "execute_result"
    }
   ],
   "source": [
    "rel_freq"
   ]
  },
  {
   "cell_type": "code",
   "execution_count": 41,
   "id": "df35e691",
   "metadata": {},
   "outputs": [
    {
     "data": {
      "image/png": "[encoded data removed]",
      "text/plain": [
       "<Figure size 432x288 with 1 Axes>"
      ]
     },
     "metadata": {
      "needs_background": "light"
     },
     "output_type": "display_data"
    }
   ],
   "source": [
    "plt.bar(frequency[0], rel_freq)\n",
    "#plt.xlim([0,30])\n",
    "#plt.ylim([0,42000])\n",
    "plt.xlabel('Number of customers in the system')\n",
    "plt.ylabel('Relative Frequency')\n",
    "plt.tight_layout\n",
    "plt.savefig('RelFreq.png')"
   ]
  },
  {
   "cell_type": "code",
   "execution_count": 46,
   "id": "0520b71c",
   "metadata": {},
   "outputs": [],
   "source": [
    "lam = 1.2\n",
    "mu = 1.0\n",
    "c = 2"
   ]
  },
  {
   "cell_type": "code",
   "execution_count": 48,
   "id": "fe5e7c1e",
   "metadata": {},
   "outputs": [
    {
     "data": {
      "text/plain": [
       "0.6"
      ]
     },
     "execution_count": 48,
     "metadata": {},
     "output_type": "execute_result"
    }
   ],
   "source": [
    "rho = lam/(mu*c)\n",
    "rho"
   ]
  },
  {
   "cell_type": "code",
   "execution_count": null,
   "id": "bb89fe48",
   "metadata": {},
   "outputs": [],
   "source": []
  }
 ],
 "metadata": {
  "kernelspec": {
   "display_name": "Python 3 (ipykernel)",
   "language": "python",
   "name": "python3"
  },
  "language_info": {
   "codemirror_mode": {
    "name": "ipython",
    "version": 3
   },
   "file_extension": ".py",
   "mimetype": "text/x-python",
   "name": "python",
   "nbconvert_exporter": "python",
   "pygments_lexer": "ipython3",
   "version": "3.9.7"
  }
 },
 "nbformat": 4,
 "nbformat_minor": 5
}
