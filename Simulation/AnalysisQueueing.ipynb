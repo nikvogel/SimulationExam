{
 "cells": [
  {
   "cell_type": "code",
   "execution_count": 56,
   "id": "215b6e84",
   "metadata": {},
   "outputs": [],
   "source": [
    "import pandas as pd\n",
    "import numpy as np\n",
    "import matplotlib.pyplot as plt\n",
    "import math\n",
    "import statistics\n",
    "import scipy.stats"
   ]
  },
  {
   "cell_type": "markdown",
   "id": "6999967e",
   "metadata": {},
   "source": [
    "# Analysis of Queueing System"
   ]
  },
  {
   "cell_type": "code",
   "execution_count": 2,
   "id": "59bec638",
   "metadata": {},
   "outputs": [],
   "source": [
    "df0 = pd.read_csv('MeanCustomersInQueue0.csv', header= None, names = ['Customers 0'])"
   ]
  },
  {
   "cell_type": "code",
   "execution_count": 3,
   "id": "7912f106",
   "metadata": {},
   "outputs": [
    {
     "data": {
      "text/html": [
       "<div>\n",
       "<style scoped>\n",
       "    .dataframe tbody tr th:only-of-type {\n",
       "        vertical-align: middle;\n",
       "    }\n",
       "\n",
       "    .dataframe tbody tr th {\n",
       "        vertical-align: top;\n",
       "    }\n",
       "\n",
       "    .dataframe thead th {\n",
       "        text-align: right;\n",
       "    }\n",
       "</style>\n",
       "<table border=\"1\" class=\"dataframe\">\n",
       "  <thead>\n",
       "    <tr style=\"text-align: right;\">\n",
       "      <th></th>\n",
       "      <th>Customers 0</th>\n",
       "    </tr>\n",
       "  </thead>\n",
       "  <tbody>\n",
       "    <tr>\n",
       "      <th>0</th>\n",
       "      <td>0.939550</td>\n",
       "    </tr>\n",
       "    <tr>\n",
       "      <th>1</th>\n",
       "      <td>0.951477</td>\n",
       "    </tr>\n",
       "    <tr>\n",
       "      <th>2</th>\n",
       "      <td>0.954037</td>\n",
       "    </tr>\n",
       "    <tr>\n",
       "      <th>3</th>\n",
       "      <td>0.961318</td>\n",
       "    </tr>\n",
       "    <tr>\n",
       "      <th>4</th>\n",
       "      <td>0.960556</td>\n",
       "    </tr>\n",
       "  </tbody>\n",
       "</table>\n",
       "</div>"
      ],
      "text/plain": [
       "   Customers 0\n",
       "0     0.939550\n",
       "1     0.951477\n",
       "2     0.954037\n",
       "3     0.961318\n",
       "4     0.960556"
      ]
     },
     "execution_count": 3,
     "metadata": {},
     "output_type": "execute_result"
    }
   ],
   "source": [
    "df0.head()"
   ]
  },
  {
   "cell_type": "code",
   "execution_count": 4,
   "id": "f91a4fae",
   "metadata": {},
   "outputs": [],
   "source": [
    "df1 = pd.read_csv('MeanCustomersInQueue1.csv', header= None, names = ['Customers 1'])"
   ]
  },
  {
   "cell_type": "code",
   "execution_count": 5,
   "id": "688b0555",
   "metadata": {},
   "outputs": [],
   "source": [
    "df = df0.join(df1)"
   ]
  },
  {
   "cell_type": "code",
   "execution_count": 6,
   "id": "e6a5cba0",
   "metadata": {},
   "outputs": [
    {
     "data": {
      "text/html": [
       "<div>\n",
       "<style scoped>\n",
       "    .dataframe tbody tr th:only-of-type {\n",
       "        vertical-align: middle;\n",
       "    }\n",
       "\n",
       "    .dataframe tbody tr th {\n",
       "        vertical-align: top;\n",
       "    }\n",
       "\n",
       "    .dataframe thead th {\n",
       "        text-align: right;\n",
       "    }\n",
       "</style>\n",
       "<table border=\"1\" class=\"dataframe\">\n",
       "  <thead>\n",
       "    <tr style=\"text-align: right;\">\n",
       "      <th></th>\n",
       "      <th>Customers 0</th>\n",
       "      <th>Customers 1</th>\n",
       "    </tr>\n",
       "  </thead>\n",
       "  <tbody>\n",
       "    <tr>\n",
       "      <th>0</th>\n",
       "      <td>0.939550</td>\n",
       "      <td>0.961056</td>\n",
       "    </tr>\n",
       "    <tr>\n",
       "      <th>1</th>\n",
       "      <td>0.951477</td>\n",
       "      <td>0.944719</td>\n",
       "    </tr>\n",
       "    <tr>\n",
       "      <th>2</th>\n",
       "      <td>0.954037</td>\n",
       "      <td>0.959715</td>\n",
       "    </tr>\n",
       "    <tr>\n",
       "      <th>3</th>\n",
       "      <td>0.961318</td>\n",
       "      <td>0.935946</td>\n",
       "    </tr>\n",
       "    <tr>\n",
       "      <th>4</th>\n",
       "      <td>0.960556</td>\n",
       "      <td>0.943696</td>\n",
       "    </tr>\n",
       "    <tr>\n",
       "      <th>...</th>\n",
       "      <td>...</td>\n",
       "      <td>...</td>\n",
       "    </tr>\n",
       "    <tr>\n",
       "      <th>95</th>\n",
       "      <td>0.943386</td>\n",
       "      <td>0.965287</td>\n",
       "    </tr>\n",
       "    <tr>\n",
       "      <th>96</th>\n",
       "      <td>0.953069</td>\n",
       "      <td>0.964227</td>\n",
       "    </tr>\n",
       "    <tr>\n",
       "      <th>97</th>\n",
       "      <td>0.974348</td>\n",
       "      <td>0.949546</td>\n",
       "    </tr>\n",
       "    <tr>\n",
       "      <th>98</th>\n",
       "      <td>0.940269</td>\n",
       "      <td>0.972527</td>\n",
       "    </tr>\n",
       "    <tr>\n",
       "      <th>99</th>\n",
       "      <td>0.952895</td>\n",
       "      <td>0.984902</td>\n",
       "    </tr>\n",
       "  </tbody>\n",
       "</table>\n",
       "<p>100 rows × 2 columns</p>\n",
       "</div>"
      ],
      "text/plain": [
       "    Customers 0  Customers 1\n",
       "0      0.939550     0.961056\n",
       "1      0.951477     0.944719\n",
       "2      0.954037     0.959715\n",
       "3      0.961318     0.935946\n",
       "4      0.960556     0.943696\n",
       "..          ...          ...\n",
       "95     0.943386     0.965287\n",
       "96     0.953069     0.964227\n",
       "97     0.974348     0.949546\n",
       "98     0.940269     0.972527\n",
       "99     0.952895     0.984902\n",
       "\n",
       "[100 rows x 2 columns]"
      ]
     },
     "execution_count": 6,
     "metadata": {},
     "output_type": "execute_result"
    }
   ],
   "source": [
    "df"
   ]
  },
  {
   "cell_type": "code",
   "execution_count": 7,
   "id": "b0b4caf7",
   "metadata": {},
   "outputs": [
    {
     "data": {
      "text/html": [
       "<div>\n",
       "<style scoped>\n",
       "    .dataframe tbody tr th:only-of-type {\n",
       "        vertical-align: middle;\n",
       "    }\n",
       "\n",
       "    .dataframe tbody tr th {\n",
       "        vertical-align: top;\n",
       "    }\n",
       "\n",
       "    .dataframe thead th {\n",
       "        text-align: right;\n",
       "    }\n",
       "</style>\n",
       "<table border=\"1\" class=\"dataframe\">\n",
       "  <thead>\n",
       "    <tr style=\"text-align: right;\">\n",
       "      <th></th>\n",
       "      <th>Customers 0</th>\n",
       "      <th>Customers 1</th>\n",
       "    </tr>\n",
       "  </thead>\n",
       "  <tbody>\n",
       "    <tr>\n",
       "      <th>Customers 0</th>\n",
       "      <td>1.000000</td>\n",
       "      <td>-0.206872</td>\n",
       "    </tr>\n",
       "    <tr>\n",
       "      <th>Customers 1</th>\n",
       "      <td>-0.206872</td>\n",
       "      <td>1.000000</td>\n",
       "    </tr>\n",
       "  </tbody>\n",
       "</table>\n",
       "</div>"
      ],
      "text/plain": [
       "             Customers 0  Customers 1\n",
       "Customers 0     1.000000    -0.206872\n",
       "Customers 1    -0.206872     1.000000"
      ]
     },
     "execution_count": 7,
     "metadata": {},
     "output_type": "execute_result"
    }
   ],
   "source": [
    "df.corr()"
   ]
  },
  {
   "cell_type": "code",
   "execution_count": 8,
   "id": "a6cc0a02",
   "metadata": {},
   "outputs": [
    {
     "data": {
      "text/plain": [
       "-0.20687163161877933"
      ]
     },
     "execution_count": 8,
     "metadata": {},
     "output_type": "execute_result"
    }
   ],
   "source": [
    "corr01 = df['Customers 0'].corr(df['Customers 1'])\n",
    "corr01"
   ]
  },
  {
   "cell_type": "code",
   "execution_count": 91,
   "id": "b9550b2c",
   "metadata": {},
   "outputs": [
    {
     "data": {
      "image/png": "[encoded data removed]",
      "text/plain": [
       "<Figure size 432x288 with 1 Axes>"
      ]
     },
     "metadata": {
      "needs_background": "light"
     },
     "output_type": "display_data"
    }
   ],
   "source": [
    "plt.plot(df.index, df['Customers 0'])\n",
    "plt.plot(df.index, df['Customers 1'])\n",
    "plt.tight_layout\n",
    "plt.ylabel('Mean number of customers')\n",
    "plt.xlabel('Simulation run')\n",
    "plt.savefig('AntitheticResults.png')"
   ]
  },
  {
   "cell_type": "code",
   "execution_count": 10,
   "id": "5fdf55c3",
   "metadata": {},
   "outputs": [],
   "source": [
    "mean0 = df['Customers 0'].mean()\n",
    "mean1 = df['Customers 1'].mean()"
   ]
  },
  {
   "cell_type": "code",
   "execution_count": 36,
   "id": "20016c99",
   "metadata": {},
   "outputs": [
    {
     "data": {
      "text/plain": [
       "0.9583899479492117"
      ]
     },
     "execution_count": 36,
     "metadata": {},
     "output_type": "execute_result"
    }
   ],
   "source": [
    "mean0"
   ]
  },
  {
   "cell_type": "code",
   "execution_count": 37,
   "id": "94f46d24",
   "metadata": {},
   "outputs": [
    {
     "data": {
      "text/plain": [
       "0.955355460578347"
      ]
     },
     "execution_count": 37,
     "metadata": {},
     "output_type": "execute_result"
    }
   ],
   "source": [
    "mean1"
   ]
  },
  {
   "cell_type": "code",
   "execution_count": 11,
   "id": "010067ba",
   "metadata": {},
   "outputs": [],
   "source": [
    "total = np.append(df['Customers 0'].to_numpy(), df['Customers 1'].to_numpy())"
   ]
  },
  {
   "cell_type": "code",
   "execution_count": 34,
   "id": "a52ec75f",
   "metadata": {},
   "outputs": [
    {
     "data": {
      "text/plain": [
       "0.01237637238364637"
      ]
     },
     "execution_count": 34,
     "metadata": {},
     "output_type": "execute_result"
    }
   ],
   "source": [
    "total.std()"
   ]
  },
  {
   "cell_type": "code",
   "execution_count": 13,
   "id": "f94145be",
   "metadata": {},
   "outputs": [],
   "source": [
    "sd0 = df['Customers 0'].std()/math.sqrt(len(df['Customers 0']))\n",
    "sd1 = df['Customers 1'].std()/math.sqrt(len(df['Customers 1']))"
   ]
  },
  {
   "cell_type": "code",
   "execution_count": 32,
   "id": "151b4c3f",
   "metadata": {},
   "outputs": [
    {
     "data": {
      "text/plain": [
       "0.00016882269646559828"
      ]
     },
     "execution_count": 32,
     "metadata": {},
     "output_type": "execute_result"
    }
   ],
   "source": [
    "df['Customers 0'].var()"
   ]
  },
  {
   "cell_type": "code",
   "execution_count": 14,
   "id": "0f8492bc",
   "metadata": {},
   "outputs": [
    {
     "data": {
      "text/plain": [
       "0.9568727042637794"
      ]
     },
     "execution_count": 14,
     "metadata": {},
     "output_type": "execute_result"
    }
   ],
   "source": [
    "mean = (mean0 + mean1)/2\n",
    "mean"
   ]
  },
  {
   "cell_type": "code",
   "execution_count": 15,
   "id": "e3b570eb",
   "metadata": {},
   "outputs": [
    {
     "data": {
      "text/plain": [
       "0.0008729161766186534"
      ]
     },
     "execution_count": 15,
     "metadata": {},
     "output_type": "execute_result"
    }
   ],
   "source": [
    "sd = math.sqrt(1/4 *(sd0**2+sd1**2))\n",
    "sd"
   ]
  },
  {
   "cell_type": "code",
   "execution_count": 16,
   "id": "a211dddb",
   "metadata": {},
   "outputs": [
    {
     "data": {
      "text/plain": [
       "1.6882269646559827e-06"
      ]
     },
     "execution_count": 16,
     "metadata": {},
     "output_type": "execute_result"
    }
   ],
   "source": [
    "sd0**2"
   ]
  },
  {
   "cell_type": "code",
   "execution_count": 17,
   "id": "42fe2031",
   "metadata": {},
   "outputs": [
    {
     "data": {
      "text/plain": [
       "1.3597036409541294e-06"
      ]
     },
     "execution_count": 17,
     "metadata": {},
     "output_type": "execute_result"
    }
   ],
   "source": [
    "sd1**2"
   ]
  },
  {
   "cell_type": "code",
   "execution_count": null,
   "id": "efeac1fa",
   "metadata": {},
   "outputs": [],
   "source": []
  },
  {
   "cell_type": "code",
   "execution_count": 50,
   "id": "77dcc70e",
   "metadata": {},
   "outputs": [],
   "source": [
    "cov = df.cov()"
   ]
  },
  {
   "cell_type": "code",
   "execution_count": 51,
   "id": "c90d5b66",
   "metadata": {},
   "outputs": [],
   "source": [
    "cov01 = cov.iloc[1,0]"
   ]
  },
  {
   "cell_type": "code",
   "execution_count": 47,
   "id": "e2c9b2dc",
   "metadata": {},
   "outputs": [
    {
     "data": {
      "text/plain": [
       "-1.4752728173256336e-05"
      ]
     },
     "execution_count": 47,
     "metadata": {},
     "output_type": "execute_result"
    }
   ],
   "source": [
    "1/4*(sd0**2+sd1**2+2*cov01)"
   ]
  },
  {
   "cell_type": "code",
   "execution_count": 52,
   "id": "bb03bb5c",
   "metadata": {},
   "outputs": [
    {
     "data": {
      "text/plain": [
       "0.007779899746451738"
      ]
     },
     "execution_count": 52,
     "metadata": {},
     "output_type": "execute_result"
    }
   ],
   "source": [
    "sd = math.sqrt(1/4*(df['Customers 0'].var()+df['Customers 1'].var()+2*cov01))\n",
    "sd"
   ]
  },
  {
   "cell_type": "code",
   "execution_count": 68,
   "id": "6fb1b597",
   "metadata": {},
   "outputs": [
    {
     "data": {
      "text/plain": [
       "0.0005501219867667525"
      ]
     },
     "execution_count": 68,
     "metadata": {},
     "output_type": "execute_result"
    }
   ],
   "source": [
    "sd_mean = sd/math.sqrt(200)\n",
    "sd_mean"
   ]
  },
  {
   "cell_type": "code",
   "execution_count": null,
   "id": "d6ca750d",
   "metadata": {},
   "outputs": [],
   "source": []
  },
  {
   "cell_type": "code",
   "execution_count": 69,
   "id": "30f2a953",
   "metadata": {},
   "outputs": [
    {
     "data": {
      "text/plain": [
       "1.971956544249395"
      ]
     },
     "execution_count": 69,
     "metadata": {},
     "output_type": "execute_result"
    }
   ],
   "source": [
    "crit_t = scipy.stats.t.ppf(0.975, 199)\n",
    "crit_t"
   ]
  },
  {
   "cell_type": "code",
   "execution_count": 64,
   "id": "808d8955",
   "metadata": {},
   "outputs": [],
   "source": [
    "lb = mean - crit_t*sd_mean"
   ]
  },
  {
   "cell_type": "code",
   "execution_count": 65,
   "id": "19bdd067",
   "metadata": {},
   "outputs": [],
   "source": [
    "ub = mean + crit_t*sd_mean"
   ]
  },
  {
   "cell_type": "code",
   "execution_count": 67,
   "id": "673c8938",
   "metadata": {},
   "outputs": [
    {
     "name": "stdout",
     "output_type": "stream",
     "text": [
      "[0.9557878876118392, 0.9579575209157195]\n"
     ]
    }
   ],
   "source": [
    "print(f'[{lb}, {ub}]')"
   ]
  },
  {
   "cell_type": "code",
   "execution_count": 72,
   "id": "a4524679",
   "metadata": {},
   "outputs": [],
   "source": [
    "measurements = pd.read_csv('Measurements.csv', header= None, names = ['Customers'])"
   ]
  },
  {
   "cell_type": "code",
   "execution_count": 80,
   "id": "0adf6081",
   "metadata": {},
   "outputs": [],
   "source": [
    "frequency = np.unique(measurements['Customers'], return_counts= True)"
   ]
  },
  {
   "cell_type": "code",
   "execution_count": 84,
   "id": "7ec42ae1",
   "metadata": {},
   "outputs": [],
   "source": [
    "rel_freq = frequency[1]/sum(frequency[1])"
   ]
  },
  {
   "cell_type": "code",
   "execution_count": 85,
   "id": "9614f558",
   "metadata": {},
   "outputs": [
    {
     "data": {
      "text/plain": [
       "array([4.06896864e-01, 3.51665836e-01, 1.55865788e-01, 5.83564410e-02,\n",
       "       1.91005380e-02, 5.80776399e-03, 1.67280651e-03, 4.59932999e-04,\n",
       "       1.31409428e-04, 3.28523571e-05, 7.10321234e-06, 2.66370463e-06])"
      ]
     },
     "execution_count": 85,
     "metadata": {},
     "output_type": "execute_result"
    }
   ],
   "source": [
    "rel_freq"
   ]
  },
  {
   "cell_type": "code",
   "execution_count": 88,
   "id": "df35e691",
   "metadata": {},
   "outputs": [
    {
     "data": {
      "image/png": "[encoded data removed]",
      "text/plain": [
       "<Figure size 432x288 with 1 Axes>"
      ]
     },
     "metadata": {
      "needs_background": "light"
     },
     "output_type": "display_data"
    }
   ],
   "source": [
    "plt.bar(frequency[0], rel_freq)\n",
    "#plt.xlim([0,30])\n",
    "#plt.ylim([0,42000])\n",
    "plt.xlabel('Number of customers in the system')\n",
    "plt.ylabel('Relative Frequency')\n",
    "plt.tight_layout\n",
    "plt.savefig('RelFreq.png')"
   ]
  },
  {
   "cell_type": "code",
   "execution_count": null,
   "id": "fe5e7c1e",
   "metadata": {},
   "outputs": [],
   "source": []
  }
 ],
 "metadata": {
  "kernelspec": {
   "display_name": "Python 3 (ipykernel)",
   "language": "python",
   "name": "python3"
  },
  "language_info": {
   "codemirror_mode": {
    "name": "ipython",
    "version": 3
   },
   "file_extension": ".py",
   "mimetype": "text/x-python",
   "name": "python",
   "nbconvert_exporter": "python",
   "pygments_lexer": "ipython3",
   "version": "3.9.7"
  }
 },
 "nbformat": 4,
 "nbformat_minor": 5
}
