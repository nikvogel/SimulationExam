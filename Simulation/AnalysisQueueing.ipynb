{
 "cells": [
  {
   "cell_type": "code",
   "execution_count": 21,
   "id": "1ad666c5",
   "metadata": {},
   "outputs": [],
   "source": [
    "import pandas as pd\n",
    "import numpy as np\n",
    "import matplotlib.pyplot as plt\n",
    "import math\n",
    "import statistics"
   ]
  },
  {
   "cell_type": "markdown",
   "id": "057b5096",
   "metadata": {},
   "source": [
    "# Analysis of Queueing System"
   ]
  },
  {
   "cell_type": "code",
   "execution_count": 2,
   "id": "89fd02d2",
   "metadata": {},
   "outputs": [],
   "source": [
    "df0 = pd.read_csv('MeanCustomersInQueue0.csv', header= None, names = ['Customers 0'])"
   ]
  },
  {
   "cell_type": "code",
   "execution_count": 3,
   "id": "fb55c585",
   "metadata": {},
   "outputs": [
    {
     "data": {
      "text/html": [
       "<div>\n",
       "<style scoped>\n",
       "    .dataframe tbody tr th:only-of-type {\n",
       "        vertical-align: middle;\n",
       "    }\n",
       "\n",
       "    .dataframe tbody tr th {\n",
       "        vertical-align: top;\n",
       "    }\n",
       "\n",
       "    .dataframe thead th {\n",
       "        text-align: right;\n",
       "    }\n",
       "</style>\n",
       "<table border=\"1\" class=\"dataframe\">\n",
       "  <thead>\n",
       "    <tr style=\"text-align: right;\">\n",
       "      <th></th>\n",
       "      <th>Customers 0</th>\n",
       "    </tr>\n",
       "  </thead>\n",
       "  <tbody>\n",
       "    <tr>\n",
       "      <th>0</th>\n",
       "      <td>0.939550</td>\n",
       "    </tr>\n",
       "    <tr>\n",
       "      <th>1</th>\n",
       "      <td>0.951477</td>\n",
       "    </tr>\n",
       "    <tr>\n",
       "      <th>2</th>\n",
       "      <td>0.954037</td>\n",
       "    </tr>\n",
       "    <tr>\n",
       "      <th>3</th>\n",
       "      <td>0.961318</td>\n",
       "    </tr>\n",
       "    <tr>\n",
       "      <th>4</th>\n",
       "      <td>0.960556</td>\n",
       "    </tr>\n",
       "  </tbody>\n",
       "</table>\n",
       "</div>"
      ],
      "text/plain": [
       "   Customers 0\n",
       "0     0.939550\n",
       "1     0.951477\n",
       "2     0.954037\n",
       "3     0.961318\n",
       "4     0.960556"
      ]
     },
     "execution_count": 3,
     "metadata": {},
     "output_type": "execute_result"
    }
   ],
   "source": [
    "df0.head()"
   ]
  },
  {
   "cell_type": "code",
   "execution_count": 4,
   "id": "6f02cd56",
   "metadata": {},
   "outputs": [],
   "source": [
    "df1 = pd.read_csv('MeanCustomersInQueue1.csv', header= None, names = ['Customers 1'])"
   ]
  },
  {
   "cell_type": "code",
   "execution_count": 5,
   "id": "3b17b927",
   "metadata": {},
   "outputs": [],
   "source": [
    "df = df0.join(df1)"
   ]
  },
  {
   "cell_type": "code",
   "execution_count": 6,
   "id": "2aaec2f8",
   "metadata": {},
   "outputs": [
    {
     "data": {
      "text/html": [
       "<div>\n",
       "<style scoped>\n",
       "    .dataframe tbody tr th:only-of-type {\n",
       "        vertical-align: middle;\n",
       "    }\n",
       "\n",
       "    .dataframe tbody tr th {\n",
       "        vertical-align: top;\n",
       "    }\n",
       "\n",
       "    .dataframe thead th {\n",
       "        text-align: right;\n",
       "    }\n",
       "</style>\n",
       "<table border=\"1\" class=\"dataframe\">\n",
       "  <thead>\n",
       "    <tr style=\"text-align: right;\">\n",
       "      <th></th>\n",
       "      <th>Customers 0</th>\n",
       "      <th>Customers 1</th>\n",
       "    </tr>\n",
       "  </thead>\n",
       "  <tbody>\n",
       "    <tr>\n",
       "      <th>0</th>\n",
       "      <td>0.939550</td>\n",
       "      <td>0.961056</td>\n",
       "    </tr>\n",
       "    <tr>\n",
       "      <th>1</th>\n",
       "      <td>0.951477</td>\n",
       "      <td>0.944719</td>\n",
       "    </tr>\n",
       "    <tr>\n",
       "      <th>2</th>\n",
       "      <td>0.954037</td>\n",
       "      <td>0.959715</td>\n",
       "    </tr>\n",
       "    <tr>\n",
       "      <th>3</th>\n",
       "      <td>0.961318</td>\n",
       "      <td>0.935946</td>\n",
       "    </tr>\n",
       "    <tr>\n",
       "      <th>4</th>\n",
       "      <td>0.960556</td>\n",
       "      <td>0.943696</td>\n",
       "    </tr>\n",
       "    <tr>\n",
       "      <th>...</th>\n",
       "      <td>...</td>\n",
       "      <td>...</td>\n",
       "    </tr>\n",
       "    <tr>\n",
       "      <th>95</th>\n",
       "      <td>0.943386</td>\n",
       "      <td>0.965287</td>\n",
       "    </tr>\n",
       "    <tr>\n",
       "      <th>96</th>\n",
       "      <td>0.953069</td>\n",
       "      <td>0.964227</td>\n",
       "    </tr>\n",
       "    <tr>\n",
       "      <th>97</th>\n",
       "      <td>0.974348</td>\n",
       "      <td>0.949546</td>\n",
       "    </tr>\n",
       "    <tr>\n",
       "      <th>98</th>\n",
       "      <td>0.940269</td>\n",
       "      <td>0.972527</td>\n",
       "    </tr>\n",
       "    <tr>\n",
       "      <th>99</th>\n",
       "      <td>0.952895</td>\n",
       "      <td>0.984902</td>\n",
       "    </tr>\n",
       "  </tbody>\n",
       "</table>\n",
       "<p>100 rows × 2 columns</p>\n",
       "</div>"
      ],
      "text/plain": [
       "    Customers 0  Customers 1\n",
       "0      0.939550     0.961056\n",
       "1      0.951477     0.944719\n",
       "2      0.954037     0.959715\n",
       "3      0.961318     0.935946\n",
       "4      0.960556     0.943696\n",
       "..          ...          ...\n",
       "95     0.943386     0.965287\n",
       "96     0.953069     0.964227\n",
       "97     0.974348     0.949546\n",
       "98     0.940269     0.972527\n",
       "99     0.952895     0.984902\n",
       "\n",
       "[100 rows x 2 columns]"
      ]
     },
     "execution_count": 6,
     "metadata": {},
     "output_type": "execute_result"
    }
   ],
   "source": [
    "df"
   ]
  },
  {
   "cell_type": "code",
   "execution_count": 7,
   "id": "144a8b62",
   "metadata": {},
   "outputs": [
    {
     "data": {
      "text/html": [
       "<div>\n",
       "<style scoped>\n",
       "    .dataframe tbody tr th:only-of-type {\n",
       "        vertical-align: middle;\n",
       "    }\n",
       "\n",
       "    .dataframe tbody tr th {\n",
       "        vertical-align: top;\n",
       "    }\n",
       "\n",
       "    .dataframe thead th {\n",
       "        text-align: right;\n",
       "    }\n",
       "</style>\n",
       "<table border=\"1\" class=\"dataframe\">\n",
       "  <thead>\n",
       "    <tr style=\"text-align: right;\">\n",
       "      <th></th>\n",
       "      <th>Customers 0</th>\n",
       "      <th>Customers 1</th>\n",
       "    </tr>\n",
       "  </thead>\n",
       "  <tbody>\n",
       "    <tr>\n",
       "      <th>Customers 0</th>\n",
       "      <td>1.000000</td>\n",
       "      <td>-0.206872</td>\n",
       "    </tr>\n",
       "    <tr>\n",
       "      <th>Customers 1</th>\n",
       "      <td>-0.206872</td>\n",
       "      <td>1.000000</td>\n",
       "    </tr>\n",
       "  </tbody>\n",
       "</table>\n",
       "</div>"
      ],
      "text/plain": [
       "             Customers 0  Customers 1\n",
       "Customers 0     1.000000    -0.206872\n",
       "Customers 1    -0.206872     1.000000"
      ]
     },
     "execution_count": 7,
     "metadata": {},
     "output_type": "execute_result"
    }
   ],
   "source": [
    "df.corr()"
   ]
  },
  {
   "cell_type": "code",
   "execution_count": 8,
   "id": "57835c1c",
   "metadata": {},
   "outputs": [
    {
     "data": {
      "text/plain": [
       "-0.20687163161877933"
      ]
     },
     "execution_count": 8,
     "metadata": {},
     "output_type": "execute_result"
    }
   ],
   "source": [
    "corr01 = df['Customers 0'].corr(df['Customers 1'])\n",
    "corr01"
   ]
  },
  {
   "cell_type": "code",
   "execution_count": 9,
   "id": "f6ca71f6",
   "metadata": {},
   "outputs": [
    {
     "data": {
      "text/plain": [
       "[<matplotlib.lines.Line2D at 0x7fee2808aa30>]"
      ]
     },
     "execution_count": 9,
     "metadata": {},
     "output_type": "execute_result"
    },
    {
     "data": {
      "image/png": "[encoded data removed]",
      "text/plain": [
       "<Figure size 432x288 with 1 Axes>"
      ]
     },
     "metadata": {
      "needs_background": "light"
     },
     "output_type": "display_data"
    }
   ],
   "source": [
    "plt.plot(df.index, df['Customers 0'])\n",
    "plt.plot(df.index, df['Customers 1'])"
   ]
  },
  {
   "cell_type": "code",
   "execution_count": 10,
   "id": "88ac8b6e",
   "metadata": {},
   "outputs": [],
   "source": [
    "mean0 = df['Customers 0'].mean()\n",
    "mean1 = df['Customers 1'].mean()"
   ]
  },
  {
   "cell_type": "code",
   "execution_count": 28,
   "id": "fe751f01",
   "metadata": {},
   "outputs": [],
   "source": [
    "total = np.append(df['Customers 0'].to_numpy(), df['Customers 1'].to_numpy())"
   ]
  },
  {
   "cell_type": "code",
   "execution_count": 34,
   "id": "6f0107a2",
   "metadata": {},
   "outputs": [
    {
     "data": {
      "text/plain": [
       "0.0008751416838966262"
      ]
     },
     "execution_count": 34,
     "metadata": {},
     "output_type": "execute_result"
    }
   ],
   "source": [
    "total.std()/math.sqrt(total.size)"
   ]
  },
  {
   "cell_type": "code",
   "execution_count": 11,
   "id": "392c42e9",
   "metadata": {},
   "outputs": [],
   "source": [
    "sd0 = df['Customers 0'].std()/math.sqrt(len(df['Customers 0']))\n",
    "sd1 = df['Customers 1'].std()/math.sqrt(len(df['Customers 1']))"
   ]
  },
  {
   "cell_type": "code",
   "execution_count": 12,
   "id": "26e72e76",
   "metadata": {},
   "outputs": [
    {
     "data": {
      "text/plain": [
       "0.9568727042637794"
      ]
     },
     "execution_count": 12,
     "metadata": {},
     "output_type": "execute_result"
    }
   ],
   "source": [
    "mean = (mean0 + mean1)/2\n",
    "mean"
   ]
  },
  {
   "cell_type": "code",
   "execution_count": 13,
   "id": "cc383e59",
   "metadata": {},
   "outputs": [
    {
     "data": {
      "text/plain": [
       "0.000872811498930154"
      ]
     },
     "execution_count": 13,
     "metadata": {},
     "output_type": "execute_result"
    }
   ],
   "source": [
    "sd = math.sqrt(1/4 *(sd0**2+sd1**2+2*sd0**1*sd1**2*corr01))\n",
    "sd"
   ]
  }
 ],
 "metadata": {
  "kernelspec": {
   "display_name": "Python 3 (ipykernel)",
   "language": "python",
   "name": "python3"
  },
  "language_info": {
   "codemirror_mode": {
    "name": "ipython",
    "version": 3
   },
   "file_extension": ".py",
   "mimetype": "text/x-python",
   "name": "python",
   "nbconvert_exporter": "python",
   "pygments_lexer": "ipython3",
   "version": "3.9.7"
  }
 },
 "nbformat": 4,
 "nbformat_minor": 5
}
