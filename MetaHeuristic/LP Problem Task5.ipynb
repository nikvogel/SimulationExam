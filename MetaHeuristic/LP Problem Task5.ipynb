{
 "cells": [
  {
   "cell_type": "code",
   "execution_count": 1,
   "id": "566f8db1",
   "metadata": {},
   "outputs": [],
   "source": [
    "import gurobipy as gp\n",
    "from gurobipy import GRB\n",
    "import numpy as np\n",
    "import pandas as pd\n",
    "import scipy.sparse as sp\n",
    "import matplotlib.pyplot as plt"
   ]
  },
  {
   "cell_type": "markdown",
   "id": "cefb898c",
   "metadata": {},
   "source": [
    "# Linear Problem Task 5"
   ]
  },
  {
   "cell_type": "code",
   "execution_count": 2,
   "id": "eed56d70",
   "metadata": {},
   "outputs": [
    {
     "data": {
      "text/plain": [
       "array([1, 2, 3, 4, 5, 6])"
      ]
     },
     "execution_count": 2,
     "metadata": {},
     "output_type": "execute_result"
    }
   ],
   "source": [
    "time_periods = np.arange(1,7)\n",
    "time_periods"
   ]
  },
  {
   "cell_type": "code",
   "execution_count": 3,
   "id": "7d94bc8d",
   "metadata": {},
   "outputs": [],
   "source": [
    "cp = np.asarray([3,4,3,4,4,5])\n",
    "CP = sp.diags(cp)\n",
    "cf = np.asarray([12,15,30,23,19,45])\n",
    "CF = sp.diags(cf)\n",
    "cs = np.asarray([1,1,1,1,1,1])\n",
    "CS = sp.diags(cs)\n",
    "d = np.asarray([6,7,4,6,3,8])\n",
    "g = 10"
   ]
  },
  {
   "cell_type": "code",
   "execution_count": 4,
   "id": "579d2ab2",
   "metadata": {},
   "outputs": [
    {
     "name": "stdout",
     "output_type": "stream",
     "text": [
      "Set parameter Username\n",
      "Academic license - for non-commercial use only - expires 2022-08-02\n"
     ]
    }
   ],
   "source": [
    "model = gp.Model('ProductionMgmtProblem')"
   ]
  },
  {
   "cell_type": "code",
   "execution_count": 5,
   "id": "c33bdccc",
   "metadata": {},
   "outputs": [],
   "source": [
    "x = model.addVars(time_periods, vtype = GRB.CONTINUOUS, name='x_')\n",
    "y = model.addVars(time_periods, vtype = GRB.BINARY, name='y_')\n",
    "z = model.addVars(np.arange(0,7), vtype = GRB.CONTINUOUS, name='z_')"
   ]
  },
  {
   "cell_type": "code",
   "execution_count": 6,
   "id": "d16299c2",
   "metadata": {},
   "outputs": [],
   "source": [
    "model.setObjective(gp.quicksum(x[t]*cp[t-1] for t in time_periods)\n",
    "                    +gp.quicksum(y[t]*cf[t-1] for t in time_periods)\n",
    "                    +gp.quicksum(z[t]*cs[t-1] for t in time_periods), GRB.MINIMIZE)"
   ]
  },
  {
   "cell_type": "code",
   "execution_count": 7,
   "id": "abbabbdc",
   "metadata": {},
   "outputs": [
    {
     "data": {
      "text/plain": [
       "{1: <gurobi.Constr *Awaiting Model Update*>,\n",
       " 2: <gurobi.Constr *Awaiting Model Update*>,\n",
       " 3: <gurobi.Constr *Awaiting Model Update*>,\n",
       " 4: <gurobi.Constr *Awaiting Model Update*>,\n",
       " 5: <gurobi.Constr *Awaiting Model Update*>,\n",
       " 6: <gurobi.Constr *Awaiting Model Update*>}"
      ]
     },
     "execution_count": 7,
     "metadata": {},
     "output_type": "execute_result"
    }
   ],
   "source": [
    "model.addConstrs(z[t-1]+x[t] == d[t-1]+z[t] for t in time_periods)"
   ]
  },
  {
   "cell_type": "code",
   "execution_count": 8,
   "id": "f4a9ba60",
   "metadata": {},
   "outputs": [
    {
     "data": {
      "text/plain": [
       "{1: <gurobi.Constr *Awaiting Model Update*>,\n",
       " 2: <gurobi.Constr *Awaiting Model Update*>,\n",
       " 3: <gurobi.Constr *Awaiting Model Update*>,\n",
       " 4: <gurobi.Constr *Awaiting Model Update*>,\n",
       " 5: <gurobi.Constr *Awaiting Model Update*>,\n",
       " 6: <gurobi.Constr *Awaiting Model Update*>}"
      ]
     },
     "execution_count": 8,
     "metadata": {},
     "output_type": "execute_result"
    }
   ],
   "source": [
    "model.addConstrs(x[t] <= g*y[t] for t in time_periods)"
   ]
  },
  {
   "cell_type": "code",
   "execution_count": 9,
   "id": "c116e56f",
   "metadata": {},
   "outputs": [
    {
     "data": {
      "text/plain": [
       "<gurobi.Constr *Awaiting Model Update*>"
      ]
     },
     "execution_count": 9,
     "metadata": {},
     "output_type": "execute_result"
    }
   ],
   "source": [
    "model.addConstr(z[0]==0)"
   ]
  },
  {
   "cell_type": "code",
   "execution_count": 10,
   "id": "e3e8435a",
   "metadata": {},
   "outputs": [],
   "source": [
    "model.write('ProductionMgmtProblem.lp')"
   ]
  },
  {
   "cell_type": "code",
   "execution_count": 11,
   "id": "7d084b71",
   "metadata": {},
   "outputs": [
    {
     "name": "stdout",
     "output_type": "stream",
     "text": [
      "Gurobi Optimizer version 9.5.1 build v9.5.1rc2 (mac64[rosetta2])\n",
      "Thread count: 8 physical cores, 8 logical processors, using up to 8 threads\n",
      "Optimize a model with 13 rows, 19 columns and 31 nonzeros\n",
      "Model fingerprint: 0xd8fbcffb\n",
      "Variable types: 13 continuous, 6 integer (6 binary)\n",
      "Coefficient statistics:\n",
      "  Matrix range     [1e+00, 1e+01]\n",
      "  Objective range  [1e+00, 4e+01]\n",
      "  Bounds range     [1e+00, 1e+00]\n",
      "  RHS range        [3e+00, 8e+00]\n",
      "Presolve removed 6 rows and 8 columns\n",
      "Presolve time: 0.00s\n",
      "Presolved: 7 rows, 11 columns, 17 nonzeros\n",
      "Variable types: 7 continuous, 4 integer (4 binary)\n",
      "Found heuristic solution: objective 278.0000000\n",
      "\n",
      "Root relaxation: objective 2.042000e+02, 7 iterations, 0.00 seconds (0.00 work units)\n",
      "\n",
      "    Nodes    |    Current Node    |     Objective Bounds      |     Work\n",
      " Expl Unexpl |  Obj  Depth IntInf | Incumbent    BestBd   Gap | It/Node Time\n",
      "\n",
      "     0     0  204.20000    0    1  278.00000  204.20000  26.5%     -    0s\n",
      "H    0     0                     218.0000000  204.20000  6.33%     -    0s\n",
      "H    0     0                     213.0000000  204.20000  4.13%     -    0s\n",
      "H    0     0                     212.0000000  204.20000  3.68%     -    0s\n",
      "\n",
      "Cutting planes:\n",
      "  Implied bound: 1\n",
      "  Clique: 1\n",
      "  Flow path: 1\n",
      "\n",
      "Explored 1 nodes (7 simplex iterations) in 0.04 seconds (0.00 work units)\n",
      "Thread count was 8 (of 8 available processors)\n",
      "\n",
      "Solution count 3: 212 213 278 \n",
      "\n",
      "Optimal solution found (tolerance 1.00e-04)\n",
      "Best objective 2.120000000000e+02, best bound 2.120000000000e+02, gap 0.0000%\n"
     ]
    }
   ],
   "source": [
    "model.optimize()"
   ]
  },
  {
   "cell_type": "code",
   "execution_count": 12,
   "id": "54d0544f",
   "metadata": {},
   "outputs": [
    {
     "data": {
      "text/plain": [
       "[<gurobi.Var x_[1] (value 10.0)>,\n",
       " <gurobi.Var x_[2] (value 6.999999999999998)>,\n",
       " <gurobi.Var x_[3] (value 0.0)>,\n",
       " <gurobi.Var x_[4] (value 7.0)>,\n",
       " <gurobi.Var x_[5] (value 10.0)>,\n",
       " <gurobi.Var x_[6] (value 0.0)>,\n",
       " <gurobi.Var y_[1] (value 1.0)>,\n",
       " <gurobi.Var y_[2] (value 1.0)>,\n",
       " <gurobi.Var y_[3] (value -0.0)>,\n",
       " <gurobi.Var y_[4] (value 1.0)>,\n",
       " <gurobi.Var y_[5] (value 1.0)>,\n",
       " <gurobi.Var y_[6] (value -0.0)>,\n",
       " <gurobi.Var z_[0] (value 0.0)>,\n",
       " <gurobi.Var z_[1] (value 4.0)>,\n",
       " <gurobi.Var z_[2] (value 3.9999999999999982)>,\n",
       " <gurobi.Var z_[3] (value 0.0)>,\n",
       " <gurobi.Var z_[4] (value 1.0)>,\n",
       " <gurobi.Var z_[5] (value 8.0)>,\n",
       " <gurobi.Var z_[6] (value 0.0)>]"
      ]
     },
     "execution_count": 12,
     "metadata": {},
     "output_type": "execute_result"
    }
   ],
   "source": [
    "model.getVars()"
   ]
  },
  {
   "cell_type": "code",
   "execution_count": 13,
   "id": "d1fe5a9c",
   "metadata": {},
   "outputs": [],
   "source": [
    "x_star = []\n",
    "y_star = []\n",
    "z_star = []\n",
    "for t in time_periods:\n",
    "    x_star.append(x[t].x)\n",
    "    y_star.append(y[t].x)\n",
    "    z_star.append(z[t].x)"
   ]
  },
  {
   "cell_type": "code",
   "execution_count": 14,
   "id": "f09da962",
   "metadata": {},
   "outputs": [
    {
     "data": {
      "image/png": "[encoded data removed]",
      "text/plain": [
       "<Figure size 432x288 with 1 Axes>"
      ]
     },
     "metadata": {
      "needs_background": "light"
     },
     "output_type": "display_data"
    }
   ],
   "source": [
    "plt.plot(range(1,7), x_star, label='Production')\n",
    "plt.plot(range(1,7), z_star, label= 'Storage')\n",
    "plt.plot(range(1,7), d, label = 'Demand')\n",
    "plt.ylabel('Amount')\n",
    "plt.xlabel('Period')\n",
    "plt.legend()\n",
    "plt.tight_layout()\n",
    "plt.savefig('PlotBenchmark.png')"
   ]
  },
  {
   "cell_type": "code",
   "execution_count": 28,
   "id": "38346c56",
   "metadata": {},
   "outputs": [],
   "source": [
    "a = np.asarray([1,2,3])"
   ]
  },
  {
   "cell_type": "code",
   "execution_count": 34,
   "id": "8650c9f6",
   "metadata": {},
   "outputs": [
    {
     "data": {
      "text/plain": [
       "3"
      ]
     },
     "execution_count": 34,
     "metadata": {},
     "output_type": "execute_result"
    }
   ],
   "source": [
    "a[2:3].sum()"
   ]
  },
  {
   "cell_type": "code",
   "execution_count": 56,
   "id": "b2243d8c",
   "metadata": {},
   "outputs": [],
   "source": [
    "a[0]=2"
   ]
  },
  {
   "cell_type": "code",
   "execution_count": 57,
   "id": "34ee863c",
   "metadata": {},
   "outputs": [
    {
     "data": {
      "text/plain": [
       "array([2, 2, 3])"
      ]
     },
     "execution_count": 57,
     "metadata": {},
     "output_type": "execute_result"
    }
   ],
   "source": [
    "a"
   ]
  },
  {
   "cell_type": "code",
   "execution_count": 59,
   "id": "f636b23b",
   "metadata": {},
   "outputs": [],
   "source": [
    "b = a"
   ]
  },
  {
   "cell_type": "code",
   "execution_count": 60,
   "id": "06aaded3",
   "metadata": {},
   "outputs": [
    {
     "data": {
      "text/plain": [
       "array([2, 2, 3])"
      ]
     },
     "execution_count": 60,
     "metadata": {},
     "output_type": "execute_result"
    }
   ],
   "source": [
    "b"
   ]
  },
  {
   "cell_type": "code",
   "execution_count": 61,
   "id": "08659aae",
   "metadata": {},
   "outputs": [],
   "source": [
    "a[0]=1"
   ]
  },
  {
   "cell_type": "code",
   "execution_count": 62,
   "id": "1e003021",
   "metadata": {},
   "outputs": [
    {
     "data": {
      "text/plain": [
       "array([1, 2, 3])"
      ]
     },
     "execution_count": 62,
     "metadata": {},
     "output_type": "execute_result"
    }
   ],
   "source": [
    "a"
   ]
  },
  {
   "cell_type": "code",
   "execution_count": 63,
   "id": "681b42e6",
   "metadata": {},
   "outputs": [
    {
     "data": {
      "text/plain": [
       "array([1, 2, 3])"
      ]
     },
     "execution_count": 63,
     "metadata": {},
     "output_type": "execute_result"
    }
   ],
   "source": [
    "b"
   ]
  },
  {
   "cell_type": "code",
   "execution_count": null,
   "id": "a23c5923",
   "metadata": {},
   "outputs": [],
   "source": []
  }
 ],
 "metadata": {
  "kernelspec": {
   "display_name": "Python 3 (ipykernel)",
   "language": "python",
   "name": "python3"
  },
  "language_info": {
   "codemirror_mode": {
    "name": "ipython",
    "version": 3
   },
   "file_extension": ".py",
   "mimetype": "text/x-python",
   "name": "python",
   "nbconvert_exporter": "python",
   "pygments_lexer": "ipython3",
   "version": "3.9.7"
  }
 },
 "nbformat": 4,
 "nbformat_minor": 5
}
